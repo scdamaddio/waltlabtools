{
 "cells": [
  {
   "cell_type": "code",
   "execution_count": 11,
   "id": "f8289dc8-d6c6-4375-84b6-eacf19ece594",
   "metadata": {},
   "outputs": [],
   "source": [
    "import waltlabtools as wlt"
   ]
  },
  {
   "cell_type": "code",
   "execution_count": null,
   "id": "5475627b-c318-491b-8c25-4a3119fe5d56",
   "metadata": {},
   "outputs": [],
   "source": []
  }
 ],
 "metadata": {
  "kernelspec": {
   "display_name": "Python 3 (ipykernel)",
   "language": "python",
   "name": "python3"
  },
  "language_info": {
   "codemirror_mode": {
    "name": "ipython",
    "version": 3
   },
   "file_extension": ".py",
   "mimetype": "text/x-python",
   "name": "python",
   "nbconvert_exporter": "python",
   "pygments_lexer": "ipython3",
   "version": "3.9.5"
  }
 },
 "nbformat": 4,
 "nbformat_minor": 5
}
